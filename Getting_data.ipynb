{
 "cells": [
  {
   "cell_type": "markdown",
   "metadata": {
    "collapsed": true,
    "pycharm": {
     "name": "#%% md\n"
    }
   },
   "source": [
    "# Librerias"
   ]
  },
  {
   "cell_type": "code",
   "execution_count": 2,
   "outputs": [],
   "source": [
    "import numpy as np\n",
    "import pandas as pd\n",
    "import matplotlib as mtl\n",
    "import matplotlib.pyplot as plt\n",
    "%matplotlib inline"
   ],
   "metadata": {
    "collapsed": false,
    "pycharm": {
     "name": "#%%\n"
    }
   }
  },
  {
   "cell_type": "markdown",
   "source": [
    "# Cargando los datos"
   ],
   "metadata": {
    "collapsed": false
   }
  },
  {
   "cell_type": "code",
   "execution_count": 19,
   "outputs": [
    {
     "data": {
      "text/plain": "                   PIB  Delta PIB  Formacion_Capital  Delta_Formacion  \\\nPeriodo                                                                 \n2005     514853.000133        NaN       86720.000039              NaN   \n2006     549435.000000   6.716869      101405.000000        16.933810   \n2007     586457.000000   6.738195      117424.000000        15.797051   \n2008     605713.000000   3.283446      128090.000000         9.083322   \n2009     612616.000000   1.139649      120026.000000        -6.295573   \n\n         Exportaciones  Delta_Expo  Importaciones  Delta_Import  \nPeriodo                                                          \n2005      88124.999507         NaN   78708.000722           NaN  \n2006      96513.000000    9.518298   92625.000000     17.681810  \n2007     102516.000000    6.219887  105461.000000     13.858030  \n2008     104604.000000    2.036755  118656.000000     12.511734  \n2009      99158.000000   -5.206302  108395.000000     -8.647687  ",
      "text/html": "<div>\n<style scoped>\n    .dataframe tbody tr th:only-of-type {\n        vertical-align: middle;\n    }\n\n    .dataframe tbody tr th {\n        vertical-align: top;\n    }\n\n    .dataframe thead th {\n        text-align: right;\n    }\n</style>\n<table border=\"1\" class=\"dataframe\">\n  <thead>\n    <tr style=\"text-align: right;\">\n      <th></th>\n      <th>PIB</th>\n      <th>Delta PIB</th>\n      <th>Formacion_Capital</th>\n      <th>Delta_Formacion</th>\n      <th>Exportaciones</th>\n      <th>Delta_Expo</th>\n      <th>Importaciones</th>\n      <th>Delta_Import</th>\n    </tr>\n    <tr>\n      <th>Periodo</th>\n      <th></th>\n      <th></th>\n      <th></th>\n      <th></th>\n      <th></th>\n      <th></th>\n      <th></th>\n      <th></th>\n    </tr>\n  </thead>\n  <tbody>\n    <tr>\n      <th>2005</th>\n      <td>514853.000133</td>\n      <td>NaN</td>\n      <td>86720.000039</td>\n      <td>NaN</td>\n      <td>88124.999507</td>\n      <td>NaN</td>\n      <td>78708.000722</td>\n      <td>NaN</td>\n    </tr>\n    <tr>\n      <th>2006</th>\n      <td>549435.000000</td>\n      <td>6.716869</td>\n      <td>101405.000000</td>\n      <td>16.933810</td>\n      <td>96513.000000</td>\n      <td>9.518298</td>\n      <td>92625.000000</td>\n      <td>17.681810</td>\n    </tr>\n    <tr>\n      <th>2007</th>\n      <td>586457.000000</td>\n      <td>6.738195</td>\n      <td>117424.000000</td>\n      <td>15.797051</td>\n      <td>102516.000000</td>\n      <td>6.219887</td>\n      <td>105461.000000</td>\n      <td>13.858030</td>\n    </tr>\n    <tr>\n      <th>2008</th>\n      <td>605713.000000</td>\n      <td>3.283446</td>\n      <td>128090.000000</td>\n      <td>9.083322</td>\n      <td>104604.000000</td>\n      <td>2.036755</td>\n      <td>118656.000000</td>\n      <td>12.511734</td>\n    </tr>\n    <tr>\n      <th>2009</th>\n      <td>612616.000000</td>\n      <td>1.139649</td>\n      <td>120026.000000</td>\n      <td>-6.295573</td>\n      <td>99158.000000</td>\n      <td>-5.206302</td>\n      <td>108395.000000</td>\n      <td>-8.647687</td>\n    </tr>\n  </tbody>\n</table>\n</div>"
     },
     "execution_count": 19,
     "metadata": {},
     "output_type": "execute_result"
    }
   ],
   "source": [
    "pib = pd.read_excel(\"Indicadores Colombia.xlsx\", sheet_name=\"PIB\", index_col=\"Periodo\")\n",
    "pib.head()"
   ],
   "metadata": {
    "collapsed": false,
    "pycharm": {
     "name": "#%%\n"
    }
   }
  },
  {
   "cell_type": "code",
   "execution_count": 20,
   "outputs": [
    {
     "data": {
      "text/plain": "            Poblacion           PET  Delta_PET           PEA  Delta_PEA  \\\nPeriodo                                                                   \n2001     39672.562000  29714.737250  74.899541  18555.894833  62.444563   \n2002     40177.166000  30260.882083  75.318162  18837.230583  62.250327   \n2003     40680.358417  30817.199250  75.754044  19355.200500  62.804175   \n2004     41183.046250  31377.364500  76.189568  19285.403583  61.465134   \n2005     41686.053417  31935.828917  76.609941  19328.509917  60.520986   \n\n         Desocupados  Delta_Desoc  \nPeriodo                            \n2001     2779.097667    14.978454  \n2002     2930.795833    15.556973  \n2003     2726.342167    14.095354  \n2004     2631.891667    13.643446  \n2005     2279.981333    11.808729  ",
      "text/html": "<div>\n<style scoped>\n    .dataframe tbody tr th:only-of-type {\n        vertical-align: middle;\n    }\n\n    .dataframe tbody tr th {\n        vertical-align: top;\n    }\n\n    .dataframe thead th {\n        text-align: right;\n    }\n</style>\n<table border=\"1\" class=\"dataframe\">\n  <thead>\n    <tr style=\"text-align: right;\">\n      <th></th>\n      <th>Poblacion</th>\n      <th>PET</th>\n      <th>Delta_PET</th>\n      <th>PEA</th>\n      <th>Delta_PEA</th>\n      <th>Desocupados</th>\n      <th>Delta_Desoc</th>\n    </tr>\n    <tr>\n      <th>Periodo</th>\n      <th></th>\n      <th></th>\n      <th></th>\n      <th></th>\n      <th></th>\n      <th></th>\n      <th></th>\n    </tr>\n  </thead>\n  <tbody>\n    <tr>\n      <th>2001</th>\n      <td>39672.562000</td>\n      <td>29714.737250</td>\n      <td>74.899541</td>\n      <td>18555.894833</td>\n      <td>62.444563</td>\n      <td>2779.097667</td>\n      <td>14.978454</td>\n    </tr>\n    <tr>\n      <th>2002</th>\n      <td>40177.166000</td>\n      <td>30260.882083</td>\n      <td>75.318162</td>\n      <td>18837.230583</td>\n      <td>62.250327</td>\n      <td>2930.795833</td>\n      <td>15.556973</td>\n    </tr>\n    <tr>\n      <th>2003</th>\n      <td>40680.358417</td>\n      <td>30817.199250</td>\n      <td>75.754044</td>\n      <td>19355.200500</td>\n      <td>62.804175</td>\n      <td>2726.342167</td>\n      <td>14.095354</td>\n    </tr>\n    <tr>\n      <th>2004</th>\n      <td>41183.046250</td>\n      <td>31377.364500</td>\n      <td>76.189568</td>\n      <td>19285.403583</td>\n      <td>61.465134</td>\n      <td>2631.891667</td>\n      <td>13.643446</td>\n    </tr>\n    <tr>\n      <th>2005</th>\n      <td>41686.053417</td>\n      <td>31935.828917</td>\n      <td>76.609941</td>\n      <td>19328.509917</td>\n      <td>60.520986</td>\n      <td>2279.981333</td>\n      <td>11.808729</td>\n    </tr>\n  </tbody>\n</table>\n</div>"
     },
     "execution_count": 20,
     "metadata": {},
     "output_type": "execute_result"
    }
   ],
   "source": [
    "desempleo = pd.read_excel(\"Indicadores Colombia.xlsx\", sheet_name=\"Desempleo\", index_col=\"Periodo\")\n",
    "desempleo.head()"
   ],
   "metadata": {
    "collapsed": false,
    "pycharm": {
     "name": "#%%\n"
    }
   }
  },
  {
   "cell_type": "code",
   "execution_count": 21,
   "outputs": [
    {
     "data": {
      "text/plain": "         Meta  Inflacion  Inflacion_a  Inflacion_p      TRM  Dev_nom  \\\nPeriodo                                                                \n2000     10.0     8.7482     8.919318    11.041018  2229.18    18.97   \n2001      8.0     7.6464     6.477613     6.930345  2291.18     2.78   \n2002      6.0     6.9928     5.415198     9.275289  2864.79    25.04   \n2003      5.5     6.4906     6.977792     5.724864  2778.21    -3.02   \n2004      5.5     5.4975     5.476634     4.644012  2389.75   -13.98   \n\n          Dev_real  \nPeriodo             \n2000      6.743376  \n2001     -5.111865  \n2002     13.765769  \n2003      4.305516  \n2004    -10.897975  ",
      "text/html": "<div>\n<style scoped>\n    .dataframe tbody tr th:only-of-type {\n        vertical-align: middle;\n    }\n\n    .dataframe tbody tr th {\n        vertical-align: top;\n    }\n\n    .dataframe thead th {\n        text-align: right;\n    }\n</style>\n<table border=\"1\" class=\"dataframe\">\n  <thead>\n    <tr style=\"text-align: right;\">\n      <th></th>\n      <th>Meta</th>\n      <th>Inflacion</th>\n      <th>Inflacion_a</th>\n      <th>Inflacion_p</th>\n      <th>TRM</th>\n      <th>Dev_nom</th>\n      <th>Dev_real</th>\n    </tr>\n    <tr>\n      <th>Periodo</th>\n      <th></th>\n      <th></th>\n      <th></th>\n      <th></th>\n      <th></th>\n      <th></th>\n      <th></th>\n    </tr>\n  </thead>\n  <tbody>\n    <tr>\n      <th>2000</th>\n      <td>10.0</td>\n      <td>8.7482</td>\n      <td>8.919318</td>\n      <td>11.041018</td>\n      <td>2229.18</td>\n      <td>18.97</td>\n      <td>6.743376</td>\n    </tr>\n    <tr>\n      <th>2001</th>\n      <td>8.0</td>\n      <td>7.6464</td>\n      <td>6.477613</td>\n      <td>6.930345</td>\n      <td>2291.18</td>\n      <td>2.78</td>\n      <td>-5.111865</td>\n    </tr>\n    <tr>\n      <th>2002</th>\n      <td>6.0</td>\n      <td>6.9928</td>\n      <td>5.415198</td>\n      <td>9.275289</td>\n      <td>2864.79</td>\n      <td>25.04</td>\n      <td>13.765769</td>\n    </tr>\n    <tr>\n      <th>2003</th>\n      <td>5.5</td>\n      <td>6.4906</td>\n      <td>6.977792</td>\n      <td>5.724864</td>\n      <td>2778.21</td>\n      <td>-3.02</td>\n      <td>4.305516</td>\n    </tr>\n    <tr>\n      <th>2004</th>\n      <td>5.5</td>\n      <td>5.4975</td>\n      <td>5.476634</td>\n      <td>4.644012</td>\n      <td>2389.75</td>\n      <td>-13.98</td>\n      <td>-10.897975</td>\n    </tr>\n  </tbody>\n</table>\n</div>"
     },
     "execution_count": 21,
     "metadata": {},
     "output_type": "execute_result"
    }
   ],
   "source": [
    "inflacion = pd.read_excel(\"Indicadores Colombia.xlsx\", sheet_name=\"Inflacion\", index_col=\"Periodo\")\n",
    "inflacion.head()"
   ],
   "metadata": {
    "collapsed": false,
    "pycharm": {
     "name": "#%%\n"
    }
   }
  },
  {
   "cell_type": "code",
   "execution_count": 22,
   "outputs": [
    {
     "data": {
      "text/plain": "         Tasa_inter    Consumo  Comercial  Hipotecario       TES1       TES5  \\\nPeriodo                                                                        \n2000          12.00  28.765822  16.731531    22.243660       n.d.       n.d.   \n2001           8.50  33.566221  17.699621    20.456101       n.d.       n.d.   \n2002           5.25  28.448338  13.387775    19.738011       n.d.       n.d.   \n2003           7.25  27.052717  12.903114    20.613778  10.171032  14.847246   \n2004           6.50  26.002992  12.703866    19.110237   9.221496   13.07704   \n\n              TES7  \nPeriodo             \n2000          n.d.  \n2001          n.d.  \n2002          n.d.  \n2003     15.501484  \n2004     14.569205  ",
      "text/html": "<div>\n<style scoped>\n    .dataframe tbody tr th:only-of-type {\n        vertical-align: middle;\n    }\n\n    .dataframe tbody tr th {\n        vertical-align: top;\n    }\n\n    .dataframe thead th {\n        text-align: right;\n    }\n</style>\n<table border=\"1\" class=\"dataframe\">\n  <thead>\n    <tr style=\"text-align: right;\">\n      <th></th>\n      <th>Tasa_inter</th>\n      <th>Consumo</th>\n      <th>Comercial</th>\n      <th>Hipotecario</th>\n      <th>TES1</th>\n      <th>TES5</th>\n      <th>TES7</th>\n    </tr>\n    <tr>\n      <th>Periodo</th>\n      <th></th>\n      <th></th>\n      <th></th>\n      <th></th>\n      <th></th>\n      <th></th>\n      <th></th>\n    </tr>\n  </thead>\n  <tbody>\n    <tr>\n      <th>2000</th>\n      <td>12.00</td>\n      <td>28.765822</td>\n      <td>16.731531</td>\n      <td>22.243660</td>\n      <td>n.d.</td>\n      <td>n.d.</td>\n      <td>n.d.</td>\n    </tr>\n    <tr>\n      <th>2001</th>\n      <td>8.50</td>\n      <td>33.566221</td>\n      <td>17.699621</td>\n      <td>20.456101</td>\n      <td>n.d.</td>\n      <td>n.d.</td>\n      <td>n.d.</td>\n    </tr>\n    <tr>\n      <th>2002</th>\n      <td>5.25</td>\n      <td>28.448338</td>\n      <td>13.387775</td>\n      <td>19.738011</td>\n      <td>n.d.</td>\n      <td>n.d.</td>\n      <td>n.d.</td>\n    </tr>\n    <tr>\n      <th>2003</th>\n      <td>7.25</td>\n      <td>27.052717</td>\n      <td>12.903114</td>\n      <td>20.613778</td>\n      <td>10.171032</td>\n      <td>14.847246</td>\n      <td>15.501484</td>\n    </tr>\n    <tr>\n      <th>2004</th>\n      <td>6.50</td>\n      <td>26.002992</td>\n      <td>12.703866</td>\n      <td>19.110237</td>\n      <td>9.221496</td>\n      <td>13.07704</td>\n      <td>14.569205</td>\n    </tr>\n  </tbody>\n</table>\n</div>"
     },
     "execution_count": 22,
     "metadata": {},
     "output_type": "execute_result"
    }
   ],
   "source": [
    "tasa_interes = pd.read_excel(\"Indicadores Colombia.xlsx\", sheet_name=\"Tasa_de_interes\",index_col=\"Periodo\")\n",
    "tasa_interes.head()"
   ],
   "metadata": {
    "collapsed": false,
    "pycharm": {
     "name": "#%%\n"
    }
   }
  },
  {
   "cell_type": "code",
   "execution_count": null,
   "outputs": [],
   "source": [],
   "metadata": {
    "collapsed": false,
    "pycharm": {
     "name": "#%%\n"
    }
   }
  }
 ],
 "metadata": {
  "kernelspec": {
   "display_name": "Python 3",
   "language": "python",
   "name": "python3"
  },
  "language_info": {
   "codemirror_mode": {
    "name": "ipython",
    "version": 2
   },
   "file_extension": ".py",
   "mimetype": "text/x-python",
   "name": "python",
   "nbconvert_exporter": "python",
   "pygments_lexer": "ipython2",
   "version": "2.7.6"
  }
 },
 "nbformat": 4,
 "nbformat_minor": 0
}