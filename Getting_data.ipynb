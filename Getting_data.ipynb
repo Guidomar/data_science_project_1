{
 "cells": [
  {
   "cell_type": "markdown",
   "metadata": {
    "collapsed": true,
    "pycharm": {
     "name": "#%% md\n"
    }
   },
   "source": [
    "# Librerias"
   ]
  },
  {
   "cell_type": "code",
   "execution_count": 2,
   "outputs": [],
   "source": [
    "import numpy as np\n",
    "import pandas as pd\n",
    "import matplotlib as mtl\n",
    "import matplotlib.pyplot as plt\n",
    "%matplotlib inline"
   ],
   "metadata": {
    "collapsed": false,
    "pycharm": {
     "name": "#%%\n"
    }
   }
  },
  {
   "cell_type": "code",
   "execution_count": 7,
   "outputs": [
    {
     "data": {
      "text/plain": "   Periodo            PIB  Delta PIB  Formacion_Capital  Delta_Formacion  \\\n0     2005  514853.000133        NaN       86720.000039              NaN   \n1     2006  549435.000000   6.716869      101405.000000        16.933810   \n2     2007  586457.000000   6.738195      117424.000000        15.797051   \n3     2008  605713.000000   3.283446      128090.000000         9.083322   \n4     2009  612616.000000   1.139649      120026.000000        -6.295573   \n\n   Exportaciones  Delta_Expo  Importaciones  Delta_Import  \n0   88124.999507         NaN   78708.000722           NaN  \n1   96513.000000    9.518298   92625.000000     17.681810  \n2  102516.000000    6.219887  105461.000000     13.858030  \n3  104604.000000    2.036755  118656.000000     12.511734  \n4   99158.000000   -5.206302  108395.000000     -8.647687  ",
      "text/html": "<div>\n<style scoped>\n    .dataframe tbody tr th:only-of-type {\n        vertical-align: middle;\n    }\n\n    .dataframe tbody tr th {\n        vertical-align: top;\n    }\n\n    .dataframe thead th {\n        text-align: right;\n    }\n</style>\n<table border=\"1\" class=\"dataframe\">\n  <thead>\n    <tr style=\"text-align: right;\">\n      <th></th>\n      <th>Periodo</th>\n      <th>PIB</th>\n      <th>Delta PIB</th>\n      <th>Formacion_Capital</th>\n      <th>Delta_Formacion</th>\n      <th>Exportaciones</th>\n      <th>Delta_Expo</th>\n      <th>Importaciones</th>\n      <th>Delta_Import</th>\n    </tr>\n  </thead>\n  <tbody>\n    <tr>\n      <th>0</th>\n      <td>2005</td>\n      <td>514853.000133</td>\n      <td>NaN</td>\n      <td>86720.000039</td>\n      <td>NaN</td>\n      <td>88124.999507</td>\n      <td>NaN</td>\n      <td>78708.000722</td>\n      <td>NaN</td>\n    </tr>\n    <tr>\n      <th>1</th>\n      <td>2006</td>\n      <td>549435.000000</td>\n      <td>6.716869</td>\n      <td>101405.000000</td>\n      <td>16.933810</td>\n      <td>96513.000000</td>\n      <td>9.518298</td>\n      <td>92625.000000</td>\n      <td>17.681810</td>\n    </tr>\n    <tr>\n      <th>2</th>\n      <td>2007</td>\n      <td>586457.000000</td>\n      <td>6.738195</td>\n      <td>117424.000000</td>\n      <td>15.797051</td>\n      <td>102516.000000</td>\n      <td>6.219887</td>\n      <td>105461.000000</td>\n      <td>13.858030</td>\n    </tr>\n    <tr>\n      <th>3</th>\n      <td>2008</td>\n      <td>605713.000000</td>\n      <td>3.283446</td>\n      <td>128090.000000</td>\n      <td>9.083322</td>\n      <td>104604.000000</td>\n      <td>2.036755</td>\n      <td>118656.000000</td>\n      <td>12.511734</td>\n    </tr>\n    <tr>\n      <th>4</th>\n      <td>2009</td>\n      <td>612616.000000</td>\n      <td>1.139649</td>\n      <td>120026.000000</td>\n      <td>-6.295573</td>\n      <td>99158.000000</td>\n      <td>-5.206302</td>\n      <td>108395.000000</td>\n      <td>-8.647687</td>\n    </tr>\n  </tbody>\n</table>\n</div>"
     },
     "execution_count": 7,
     "metadata": {},
     "output_type": "execute_result"
    }
   ],
   "source": [
    "pib = pd.read_excel(\"Indicadores Colombia.xlsx\")\n",
    "pib.head()"
   ],
   "metadata": {
    "collapsed": false,
    "pycharm": {
     "name": "#%%\n"
    }
   }
  }
 ],
 "metadata": {
  "kernelspec": {
   "display_name": "Python 3",
   "language": "python",
   "name": "python3"
  },
  "language_info": {
   "codemirror_mode": {
    "name": "ipython",
    "version": 2
   },
   "file_extension": ".py",
   "mimetype": "text/x-python",
   "name": "python",
   "nbconvert_exporter": "python",
   "pygments_lexer": "ipython2",
   "version": "2.7.6"
  }
 },
 "nbformat": 4,
 "nbformat_minor": 0
}