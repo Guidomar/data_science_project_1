{
 "cells": [
  {
   "cell_type": "markdown",
   "source": [
    "# PROYECTO 1\n",
    " * Guido Margiotta\n",
    " * Juan Morales\n",
    "\n",
    "## Importando librerias"
   ],
   "metadata": {
    "collapsed": false,
    "pycharm": {
     "name": "#%% md\n"
    }
   }
  },
  {
   "cell_type": "code",
   "execution_count": 1,
   "metadata": {
    "collapsed": true
   },
   "outputs": [],
   "source": [
    "import numpy as np\n",
    "import pandas as pd\n",
    "import matplotlib as mlt\n",
    "import matplotlib.pyplot as plt\n",
    "import xlrd\n",
    "%matplotlib inline"
   ]
  },
  {
   "cell_type": "markdown",
   "source": [
    "## Obteniendo datos Argentina:\n",
    "    * Base de datos de inflación mensual por sectores\n",
    "    * Base de datos de inflación anual por sectores\n",
    "    * Creación de MultiIndex (Año, Mes)\n"
   ],
   "metadata": {
    "collapsed": false,
    "pycharm": {
     "name": "#%% md\n"
    }
   }
  },
  {
   "cell_type": "code",
   "execution_count": 2,
   "outputs": [
    {
     "data": {
      "text/plain": "    Año      Mes  nivel_general  alimentos_bebidas_no_alc  alcohol_tabaco  \\\n0  2017    Enero            1.6                       1.3             0.9   \n1  2017  Febrero            2.1                       1.8             4.3   \n2  2017    Marzo            2.4                       2.8             1.9   \n3  2017    Abril            2.7                       2.2             2.4   \n4  2017     Mayo            1.4                       1.3             1.7   \n\n   vestimenta  vivienda  hogar  salud  transporte  comunicacion  recreacion  \\\n0        -1.0       1.5    0.9    2.4         2.1           3.1         3.2   \n1        -0.2       5.4    0.4    2.7         1.9           4.1         0.6   \n2         3.4       3.6    0.8    2.0         1.2           3.2         1.7   \n3         4.5       5.9    1.1    1.8         0.6           6.8         2.6   \n4         1.7       1.8    2.8    1.5         0.9           0.3         0.7   \n\n   educacion  restaurantes_hoteles  bienes_servicios_varios  \n0        0.8                   3.1                      1.9  \n1        3.2                   1.7                      1.8  \n2       10.9                   1.0                      1.8  \n3        2.9                   1.9                      1.8  \n4        1.7                   1.5                      1.3  ",
      "text/html": "<div>\n<style scoped>\n    .dataframe tbody tr th:only-of-type {\n        vertical-align: middle;\n    }\n\n    .dataframe tbody tr th {\n        vertical-align: top;\n    }\n\n    .dataframe thead th {\n        text-align: right;\n    }\n</style>\n<table border=\"1\" class=\"dataframe\">\n  <thead>\n    <tr style=\"text-align: right;\">\n      <th></th>\n      <th>Año</th>\n      <th>Mes</th>\n      <th>nivel_general</th>\n      <th>alimentos_bebidas_no_alc</th>\n      <th>alcohol_tabaco</th>\n      <th>vestimenta</th>\n      <th>vivienda</th>\n      <th>hogar</th>\n      <th>salud</th>\n      <th>transporte</th>\n      <th>comunicacion</th>\n      <th>recreacion</th>\n      <th>educacion</th>\n      <th>restaurantes_hoteles</th>\n      <th>bienes_servicios_varios</th>\n    </tr>\n  </thead>\n  <tbody>\n    <tr>\n      <th>0</th>\n      <td>2017</td>\n      <td>Enero</td>\n      <td>1.6</td>\n      <td>1.3</td>\n      <td>0.9</td>\n      <td>-1.0</td>\n      <td>1.5</td>\n      <td>0.9</td>\n      <td>2.4</td>\n      <td>2.1</td>\n      <td>3.1</td>\n      <td>3.2</td>\n      <td>0.8</td>\n      <td>3.1</td>\n      <td>1.9</td>\n    </tr>\n    <tr>\n      <th>1</th>\n      <td>2017</td>\n      <td>Febrero</td>\n      <td>2.1</td>\n      <td>1.8</td>\n      <td>4.3</td>\n      <td>-0.2</td>\n      <td>5.4</td>\n      <td>0.4</td>\n      <td>2.7</td>\n      <td>1.9</td>\n      <td>4.1</td>\n      <td>0.6</td>\n      <td>3.2</td>\n      <td>1.7</td>\n      <td>1.8</td>\n    </tr>\n    <tr>\n      <th>2</th>\n      <td>2017</td>\n      <td>Marzo</td>\n      <td>2.4</td>\n      <td>2.8</td>\n      <td>1.9</td>\n      <td>3.4</td>\n      <td>3.6</td>\n      <td>0.8</td>\n      <td>2.0</td>\n      <td>1.2</td>\n      <td>3.2</td>\n      <td>1.7</td>\n      <td>10.9</td>\n      <td>1.0</td>\n      <td>1.8</td>\n    </tr>\n    <tr>\n      <th>3</th>\n      <td>2017</td>\n      <td>Abril</td>\n      <td>2.7</td>\n      <td>2.2</td>\n      <td>2.4</td>\n      <td>4.5</td>\n      <td>5.9</td>\n      <td>1.1</td>\n      <td>1.8</td>\n      <td>0.6</td>\n      <td>6.8</td>\n      <td>2.6</td>\n      <td>2.9</td>\n      <td>1.9</td>\n      <td>1.8</td>\n    </tr>\n    <tr>\n      <th>4</th>\n      <td>2017</td>\n      <td>Mayo</td>\n      <td>1.4</td>\n      <td>1.3</td>\n      <td>1.7</td>\n      <td>1.7</td>\n      <td>1.8</td>\n      <td>2.8</td>\n      <td>1.5</td>\n      <td>0.9</td>\n      <td>0.3</td>\n      <td>0.7</td>\n      <td>1.7</td>\n      <td>1.5</td>\n      <td>1.3</td>\n    </tr>\n  </tbody>\n</table>\n</div>"
     },
     "execution_count": 2,
     "metadata": {},
     "output_type": "execute_result"
    }
   ],
   "source": [
    "inflacion_arg_men = pd.read_excel(\"Inflación.xlsx\",sheet_name = \"Inflacion mensual por sector\")\n",
    "inflacion_arg_men.head()"
   ],
   "metadata": {
    "collapsed": false,
    "pycharm": {
     "name": "#%%\n"
    }
   }
  },
  {
   "cell_type": "code",
   "execution_count": 3,
   "outputs": [],
   "source": [
    "index = list(zip(inflacion_arg_men[\"Año\"],inflacion_arg_men[\"Mes\"]))\n",
    "index = pd.MultiIndex.from_tuples(index)"
   ],
   "metadata": {
    "collapsed": false,
    "pycharm": {
     "name": "#%%\n"
    }
   }
  },
  {
   "cell_type": "code",
   "execution_count": 4,
   "outputs": [],
   "source": [
    "inflacion_arg_men.set_index(index,inplace = True)\n",
    "inflacion_arg_men.drop([\"Año\", \"Mes\"], axis = 1, inplace = True)"
   ],
   "metadata": {
    "collapsed": false,
    "pycharm": {
     "name": "#%%\n"
    }
   }
  },
  {
   "cell_type": "code",
   "execution_count": 5,
   "outputs": [
    {
     "data": {
      "text/plain": "              nivel_general  alimentos_bebidas_no_alc  alcohol_tabaco  \\\n2017 Enero              1.6                       1.3             0.9   \n     Febrero            2.1                       1.8             4.3   \n     Marzo              2.4                       2.8             1.9   \n     Abril              2.7                       2.2             2.4   \n     Mayo               1.4                       1.3             1.7   \n\n              vestimenta  vivienda  hogar  salud  transporte  comunicacion  \\\n2017 Enero          -1.0       1.5    0.9    2.4         2.1           3.1   \n     Febrero        -0.2       5.4    0.4    2.7         1.9           4.1   \n     Marzo           3.4       3.6    0.8    2.0         1.2           3.2   \n     Abril           4.5       5.9    1.1    1.8         0.6           6.8   \n     Mayo            1.7       1.8    2.8    1.5         0.9           0.3   \n\n              recreacion  educacion  restaurantes_hoteles  \\\n2017 Enero           3.2        0.8                   3.1   \n     Febrero         0.6        3.2                   1.7   \n     Marzo           1.7       10.9                   1.0   \n     Abril           2.6        2.9                   1.9   \n     Mayo            0.7        1.7                   1.5   \n\n              bienes_servicios_varios  \n2017 Enero                        1.9  \n     Febrero                      1.8  \n     Marzo                        1.8  \n     Abril                        1.8  \n     Mayo                         1.3  ",
      "text/html": "<div>\n<style scoped>\n    .dataframe tbody tr th:only-of-type {\n        vertical-align: middle;\n    }\n\n    .dataframe tbody tr th {\n        vertical-align: top;\n    }\n\n    .dataframe thead th {\n        text-align: right;\n    }\n</style>\n<table border=\"1\" class=\"dataframe\">\n  <thead>\n    <tr style=\"text-align: right;\">\n      <th></th>\n      <th></th>\n      <th>nivel_general</th>\n      <th>alimentos_bebidas_no_alc</th>\n      <th>alcohol_tabaco</th>\n      <th>vestimenta</th>\n      <th>vivienda</th>\n      <th>hogar</th>\n      <th>salud</th>\n      <th>transporte</th>\n      <th>comunicacion</th>\n      <th>recreacion</th>\n      <th>educacion</th>\n      <th>restaurantes_hoteles</th>\n      <th>bienes_servicios_varios</th>\n    </tr>\n  </thead>\n  <tbody>\n    <tr>\n      <th rowspan=\"5\" valign=\"top\">2017</th>\n      <th>Enero</th>\n      <td>1.6</td>\n      <td>1.3</td>\n      <td>0.9</td>\n      <td>-1.0</td>\n      <td>1.5</td>\n      <td>0.9</td>\n      <td>2.4</td>\n      <td>2.1</td>\n      <td>3.1</td>\n      <td>3.2</td>\n      <td>0.8</td>\n      <td>3.1</td>\n      <td>1.9</td>\n    </tr>\n    <tr>\n      <th>Febrero</th>\n      <td>2.1</td>\n      <td>1.8</td>\n      <td>4.3</td>\n      <td>-0.2</td>\n      <td>5.4</td>\n      <td>0.4</td>\n      <td>2.7</td>\n      <td>1.9</td>\n      <td>4.1</td>\n      <td>0.6</td>\n      <td>3.2</td>\n      <td>1.7</td>\n      <td>1.8</td>\n    </tr>\n    <tr>\n      <th>Marzo</th>\n      <td>2.4</td>\n      <td>2.8</td>\n      <td>1.9</td>\n      <td>3.4</td>\n      <td>3.6</td>\n      <td>0.8</td>\n      <td>2.0</td>\n      <td>1.2</td>\n      <td>3.2</td>\n      <td>1.7</td>\n      <td>10.9</td>\n      <td>1.0</td>\n      <td>1.8</td>\n    </tr>\n    <tr>\n      <th>Abril</th>\n      <td>2.7</td>\n      <td>2.2</td>\n      <td>2.4</td>\n      <td>4.5</td>\n      <td>5.9</td>\n      <td>1.1</td>\n      <td>1.8</td>\n      <td>0.6</td>\n      <td>6.8</td>\n      <td>2.6</td>\n      <td>2.9</td>\n      <td>1.9</td>\n      <td>1.8</td>\n    </tr>\n    <tr>\n      <th>Mayo</th>\n      <td>1.4</td>\n      <td>1.3</td>\n      <td>1.7</td>\n      <td>1.7</td>\n      <td>1.8</td>\n      <td>2.8</td>\n      <td>1.5</td>\n      <td>0.9</td>\n      <td>0.3</td>\n      <td>0.7</td>\n      <td>1.7</td>\n      <td>1.5</td>\n      <td>1.3</td>\n    </tr>\n  </tbody>\n</table>\n</div>"
     },
     "execution_count": 5,
     "metadata": {},
     "output_type": "execute_result"
    }
   ],
   "source": [
    "inflacion_arg_men.head()"
   ],
   "metadata": {
    "collapsed": false,
    "pycharm": {
     "name": "#%%\n"
    }
   }
  },
  {
   "cell_type": "code",
   "execution_count": 6,
   "outputs": [
    {
     "data": {
      "text/plain": "    Año        Mes  nivel_general  alimentos_bebidas_no_alc  alcohol_tabaco  \\\n0  2017  Diciembre           24.8                      20.4            23.7   \n1  2018      Enero           25.0                      21.3            25.4   \n2  2018    Febrero           25.4                      21.7            22.3   \n3  2018      Marzo           25.4                      21.2            20.8   \n4  2018      Abril           25.5                      19.9            19.5   \n\n   vestimenta  servicios_vivienda  hogar  salud  transporte  comunicacion  \\\n0        16.6                55.6   17.4   27.8        20.6          34.1   \n1        16.9                54.9   17.6   27.1        20.7          32.6   \n2        16.4                52.5   19.1   26.6        23.8          39.0   \n3        17.4                48.0   23.5   25.8        24.6          38.4   \n4        16.9                51.0   23.7   25.8        28.8          30.9   \n\n   recreacion  educacion  restaurantes_hoteles  bienes_servicios_varios  \n0        22.8       31.5                  22.1                     19.8  \n1        23.1       31.3                  21.9                     20.4  \n2        23.6       29.7                  22.4                     20.3  \n3        23.0       33.0                  23.3                     20.4  \n4        22.2       30.3                  23.7                     20.3  ",
      "text/html": "<div>\n<style scoped>\n    .dataframe tbody tr th:only-of-type {\n        vertical-align: middle;\n    }\n\n    .dataframe tbody tr th {\n        vertical-align: top;\n    }\n\n    .dataframe thead th {\n        text-align: right;\n    }\n</style>\n<table border=\"1\" class=\"dataframe\">\n  <thead>\n    <tr style=\"text-align: right;\">\n      <th></th>\n      <th>Año</th>\n      <th>Mes</th>\n      <th>nivel_general</th>\n      <th>alimentos_bebidas_no_alc</th>\n      <th>alcohol_tabaco</th>\n      <th>vestimenta</th>\n      <th>servicios_vivienda</th>\n      <th>hogar</th>\n      <th>salud</th>\n      <th>transporte</th>\n      <th>comunicacion</th>\n      <th>recreacion</th>\n      <th>educacion</th>\n      <th>restaurantes_hoteles</th>\n      <th>bienes_servicios_varios</th>\n    </tr>\n  </thead>\n  <tbody>\n    <tr>\n      <th>0</th>\n      <td>2017</td>\n      <td>Diciembre</td>\n      <td>24.8</td>\n      <td>20.4</td>\n      <td>23.7</td>\n      <td>16.6</td>\n      <td>55.6</td>\n      <td>17.4</td>\n      <td>27.8</td>\n      <td>20.6</td>\n      <td>34.1</td>\n      <td>22.8</td>\n      <td>31.5</td>\n      <td>22.1</td>\n      <td>19.8</td>\n    </tr>\n    <tr>\n      <th>1</th>\n      <td>2018</td>\n      <td>Enero</td>\n      <td>25.0</td>\n      <td>21.3</td>\n      <td>25.4</td>\n      <td>16.9</td>\n      <td>54.9</td>\n      <td>17.6</td>\n      <td>27.1</td>\n      <td>20.7</td>\n      <td>32.6</td>\n      <td>23.1</td>\n      <td>31.3</td>\n      <td>21.9</td>\n      <td>20.4</td>\n    </tr>\n    <tr>\n      <th>2</th>\n      <td>2018</td>\n      <td>Febrero</td>\n      <td>25.4</td>\n      <td>21.7</td>\n      <td>22.3</td>\n      <td>16.4</td>\n      <td>52.5</td>\n      <td>19.1</td>\n      <td>26.6</td>\n      <td>23.8</td>\n      <td>39.0</td>\n      <td>23.6</td>\n      <td>29.7</td>\n      <td>22.4</td>\n      <td>20.3</td>\n    </tr>\n    <tr>\n      <th>3</th>\n      <td>2018</td>\n      <td>Marzo</td>\n      <td>25.4</td>\n      <td>21.2</td>\n      <td>20.8</td>\n      <td>17.4</td>\n      <td>48.0</td>\n      <td>23.5</td>\n      <td>25.8</td>\n      <td>24.6</td>\n      <td>38.4</td>\n      <td>23.0</td>\n      <td>33.0</td>\n      <td>23.3</td>\n      <td>20.4</td>\n    </tr>\n    <tr>\n      <th>4</th>\n      <td>2018</td>\n      <td>Abril</td>\n      <td>25.5</td>\n      <td>19.9</td>\n      <td>19.5</td>\n      <td>16.9</td>\n      <td>51.0</td>\n      <td>23.7</td>\n      <td>25.8</td>\n      <td>28.8</td>\n      <td>30.9</td>\n      <td>22.2</td>\n      <td>30.3</td>\n      <td>23.7</td>\n      <td>20.3</td>\n    </tr>\n  </tbody>\n</table>\n</div>"
     },
     "execution_count": 6,
     "metadata": {},
     "output_type": "execute_result"
    }
   ],
   "source": [
    "inflacion_arg_anual = pd.read_excel(\"Inflación.xlsx\",sheet_name = \"Inflacion anual por sector\")\n",
    "inflacion_arg_anual.head()"
   ],
   "metadata": {
    "collapsed": false,
    "pycharm": {
     "name": "#%%\n"
    }
   }
  },
  {
   "cell_type": "code",
   "execution_count": 7,
   "outputs": [],
   "source": [
    "index = list(zip(inflacion_arg_anual[\"Año\"],inflacion_arg_anual[\"Mes\"]))\n",
    "index = pd.MultiIndex.from_tuples(index)"
   ],
   "metadata": {
    "collapsed": false,
    "pycharm": {
     "name": "#%%\n"
    }
   }
  },
  {
   "cell_type": "code",
   "execution_count": 8,
   "outputs": [
    {
     "data": {
      "text/plain": "                nivel_general  alimentos_bebidas_no_alc  alcohol_tabaco  \\\n2017 Diciembre           24.8                      20.4            23.7   \n2018 Enero               25.0                      21.3            25.4   \n     Febrero             25.4                      21.7            22.3   \n     Marzo               25.4                      21.2            20.8   \n     Abril               25.5                      19.9            19.5   \n\n                vestimenta  servicios_vivienda  hogar  salud  transporte  \\\n2017 Diciembre        16.6                55.6   17.4   27.8        20.6   \n2018 Enero            16.9                54.9   17.6   27.1        20.7   \n     Febrero          16.4                52.5   19.1   26.6        23.8   \n     Marzo            17.4                48.0   23.5   25.8        24.6   \n     Abril            16.9                51.0   23.7   25.8        28.8   \n\n                comunicacion  recreacion  educacion  restaurantes_hoteles  \\\n2017 Diciembre          34.1        22.8       31.5                  22.1   \n2018 Enero              32.6        23.1       31.3                  21.9   \n     Febrero            39.0        23.6       29.7                  22.4   \n     Marzo              38.4        23.0       33.0                  23.3   \n     Abril              30.9        22.2       30.3                  23.7   \n\n                bienes_servicios_varios  \n2017 Diciembre                     19.8  \n2018 Enero                         20.4  \n     Febrero                       20.3  \n     Marzo                         20.4  \n     Abril                         20.3  ",
      "text/html": "<div>\n<style scoped>\n    .dataframe tbody tr th:only-of-type {\n        vertical-align: middle;\n    }\n\n    .dataframe tbody tr th {\n        vertical-align: top;\n    }\n\n    .dataframe thead th {\n        text-align: right;\n    }\n</style>\n<table border=\"1\" class=\"dataframe\">\n  <thead>\n    <tr style=\"text-align: right;\">\n      <th></th>\n      <th></th>\n      <th>nivel_general</th>\n      <th>alimentos_bebidas_no_alc</th>\n      <th>alcohol_tabaco</th>\n      <th>vestimenta</th>\n      <th>servicios_vivienda</th>\n      <th>hogar</th>\n      <th>salud</th>\n      <th>transporte</th>\n      <th>comunicacion</th>\n      <th>recreacion</th>\n      <th>educacion</th>\n      <th>restaurantes_hoteles</th>\n      <th>bienes_servicios_varios</th>\n    </tr>\n  </thead>\n  <tbody>\n    <tr>\n      <th>2017</th>\n      <th>Diciembre</th>\n      <td>24.8</td>\n      <td>20.4</td>\n      <td>23.7</td>\n      <td>16.6</td>\n      <td>55.6</td>\n      <td>17.4</td>\n      <td>27.8</td>\n      <td>20.6</td>\n      <td>34.1</td>\n      <td>22.8</td>\n      <td>31.5</td>\n      <td>22.1</td>\n      <td>19.8</td>\n    </tr>\n    <tr>\n      <th rowspan=\"4\" valign=\"top\">2018</th>\n      <th>Enero</th>\n      <td>25.0</td>\n      <td>21.3</td>\n      <td>25.4</td>\n      <td>16.9</td>\n      <td>54.9</td>\n      <td>17.6</td>\n      <td>27.1</td>\n      <td>20.7</td>\n      <td>32.6</td>\n      <td>23.1</td>\n      <td>31.3</td>\n      <td>21.9</td>\n      <td>20.4</td>\n    </tr>\n    <tr>\n      <th>Febrero</th>\n      <td>25.4</td>\n      <td>21.7</td>\n      <td>22.3</td>\n      <td>16.4</td>\n      <td>52.5</td>\n      <td>19.1</td>\n      <td>26.6</td>\n      <td>23.8</td>\n      <td>39.0</td>\n      <td>23.6</td>\n      <td>29.7</td>\n      <td>22.4</td>\n      <td>20.3</td>\n    </tr>\n    <tr>\n      <th>Marzo</th>\n      <td>25.4</td>\n      <td>21.2</td>\n      <td>20.8</td>\n      <td>17.4</td>\n      <td>48.0</td>\n      <td>23.5</td>\n      <td>25.8</td>\n      <td>24.6</td>\n      <td>38.4</td>\n      <td>23.0</td>\n      <td>33.0</td>\n      <td>23.3</td>\n      <td>20.4</td>\n    </tr>\n    <tr>\n      <th>Abril</th>\n      <td>25.5</td>\n      <td>19.9</td>\n      <td>19.5</td>\n      <td>16.9</td>\n      <td>51.0</td>\n      <td>23.7</td>\n      <td>25.8</td>\n      <td>28.8</td>\n      <td>30.9</td>\n      <td>22.2</td>\n      <td>30.3</td>\n      <td>23.7</td>\n      <td>20.3</td>\n    </tr>\n  </tbody>\n</table>\n</div>"
     },
     "execution_count": 8,
     "metadata": {},
     "output_type": "execute_result"
    }
   ],
   "source": [
    "inflacion_arg_anual.set_index(index, inplace=True)\n",
    "inflacion_arg_anual.drop([\"Año\", \"Mes\"], axis=1, inplace=True)\n",
    "inflacion_arg_anual.head()"
   ],
   "metadata": {
    "collapsed": false,
    "pycharm": {
     "name": "#%%\n"
    }
   }
  },
  {
   "cell_type": "markdown",
   "source": [
    "## Obteniendo datos Colombia:\n",
    "    * Base de datos inflación mensual por sector año 2017-2018\n",
    "    * Base de datos inflación mensual por sector año 2019-2022\n",
    "    * Base de datos inflación anual por sector año 2017-2018\n",
    "    * Base de datos inflación anual por sector año 2019-2022\n",
    "    * Creación MultiIndex (Año, Mes)"
   ],
   "metadata": {
    "collapsed": false,
    "pycharm": {
     "name": "#%% md\n"
    }
   }
  },
  {
   "cell_type": "code",
   "execution_count": 11,
   "outputs": [],
   "source": [
    "inflacion_col_men18 = pd.read_excel(\"1.2.3.IPC_Por grupo de gasto.xlsx\", sheet_name=\"Inflacion mensual por sector 18\")"
   ],
   "metadata": {
    "collapsed": false,
    "pycharm": {
     "name": "#%%\n"
    }
   }
  },
  {
   "cell_type": "code",
   "execution_count": 12,
   "outputs": [
    {
     "data": {
      "text/plain": "    Año      Mes     TOTAL  Alimentos  Vivienda  Vestuario     Salud  \\\n0  2017    Enero  1.024114   1.622083  0.709280   0.165646  1.295235   \n1  2017  Febrero  1.005739   0.709075  0.427276   0.518690  1.094947   \n2  2017    Marzo  0.465830   0.113657  0.529962   0.385676  1.282370   \n3  2017    Abril  0.473723   0.130721  0.673076   0.381234  0.722388   \n4  2017     Mayo  0.225318   0.072901  0.489332   0.156571  0.425030   \n\n   Educación  Diversión  Transporte  Comunicaciones  Otros Gastos  \n0   0.033001   1.080814    0.940034        1.579505      1.057048  \n1   6.777650  -0.974921    0.405674        1.648996      1.620817  \n2   0.040779   0.518713    0.575621        1.534859      1.129390  \n3   0.012780   0.267737    1.001560        0.274245      0.586501  \n4   0.006687  -0.098488    0.191702       -0.043494      0.208625  ",
      "text/html": "<div>\n<style scoped>\n    .dataframe tbody tr th:only-of-type {\n        vertical-align: middle;\n    }\n\n    .dataframe tbody tr th {\n        vertical-align: top;\n    }\n\n    .dataframe thead th {\n        text-align: right;\n    }\n</style>\n<table border=\"1\" class=\"dataframe\">\n  <thead>\n    <tr style=\"text-align: right;\">\n      <th></th>\n      <th>Año</th>\n      <th>Mes</th>\n      <th>TOTAL</th>\n      <th>Alimentos</th>\n      <th>Vivienda</th>\n      <th>Vestuario</th>\n      <th>Salud</th>\n      <th>Educación</th>\n      <th>Diversión</th>\n      <th>Transporte</th>\n      <th>Comunicaciones</th>\n      <th>Otros Gastos</th>\n    </tr>\n  </thead>\n  <tbody>\n    <tr>\n      <th>0</th>\n      <td>2017</td>\n      <td>Enero</td>\n      <td>1.024114</td>\n      <td>1.622083</td>\n      <td>0.709280</td>\n      <td>0.165646</td>\n      <td>1.295235</td>\n      <td>0.033001</td>\n      <td>1.080814</td>\n      <td>0.940034</td>\n      <td>1.579505</td>\n      <td>1.057048</td>\n    </tr>\n    <tr>\n      <th>1</th>\n      <td>2017</td>\n      <td>Febrero</td>\n      <td>1.005739</td>\n      <td>0.709075</td>\n      <td>0.427276</td>\n      <td>0.518690</td>\n      <td>1.094947</td>\n      <td>6.777650</td>\n      <td>-0.974921</td>\n      <td>0.405674</td>\n      <td>1.648996</td>\n      <td>1.620817</td>\n    </tr>\n    <tr>\n      <th>2</th>\n      <td>2017</td>\n      <td>Marzo</td>\n      <td>0.465830</td>\n      <td>0.113657</td>\n      <td>0.529962</td>\n      <td>0.385676</td>\n      <td>1.282370</td>\n      <td>0.040779</td>\n      <td>0.518713</td>\n      <td>0.575621</td>\n      <td>1.534859</td>\n      <td>1.129390</td>\n    </tr>\n    <tr>\n      <th>3</th>\n      <td>2017</td>\n      <td>Abril</td>\n      <td>0.473723</td>\n      <td>0.130721</td>\n      <td>0.673076</td>\n      <td>0.381234</td>\n      <td>0.722388</td>\n      <td>0.012780</td>\n      <td>0.267737</td>\n      <td>1.001560</td>\n      <td>0.274245</td>\n      <td>0.586501</td>\n    </tr>\n    <tr>\n      <th>4</th>\n      <td>2017</td>\n      <td>Mayo</td>\n      <td>0.225318</td>\n      <td>0.072901</td>\n      <td>0.489332</td>\n      <td>0.156571</td>\n      <td>0.425030</td>\n      <td>0.006687</td>\n      <td>-0.098488</td>\n      <td>0.191702</td>\n      <td>-0.043494</td>\n      <td>0.208625</td>\n    </tr>\n  </tbody>\n</table>\n</div>"
     },
     "execution_count": 12,
     "metadata": {},
     "output_type": "execute_result"
    }
   ],
   "source": [
    "inflacion_col_men18.head()"
   ],
   "metadata": {
    "collapsed": false,
    "pycharm": {
     "name": "#%%\n"
    }
   }
  },
  {
   "cell_type": "code",
   "execution_count": 13,
   "outputs": [],
   "source": [
    "index = list(zip(inflacion_col_men18[\"Año\"],inflacion_col_men18[\"Mes\"]))\n",
    "index = pd.MultiIndex.from_tuples(index)"
   ],
   "metadata": {
    "collapsed": false,
    "pycharm": {
     "name": "#%%\n"
    }
   }
  },
  {
   "cell_type": "code",
   "execution_count": 14,
   "outputs": [
    {
     "data": {
      "text/plain": "                 TOTAL  Alimentos  Vivienda  Vestuario     Salud  Educación  \\\n2017 Enero    1.024114   1.622083  0.709280   0.165646  1.295235   0.033001   \n     Febrero  1.005739   0.709075  0.427276   0.518690  1.094947   6.777650   \n     Marzo    0.465830   0.113657  0.529962   0.385676  1.282370   0.040779   \n     Abril    0.473723   0.130721  0.673076   0.381234  0.722388   0.012780   \n     Mayo     0.225318   0.072901  0.489332   0.156571  0.425030   0.006687   \n\n              Diversión  Transporte  Comunicaciones  Otros Gastos  \n2017 Enero     1.080814    0.940034        1.579505      1.057048  \n     Febrero  -0.974921    0.405674        1.648996      1.620817  \n     Marzo     0.518713    0.575621        1.534859      1.129390  \n     Abril     0.267737    1.001560        0.274245      0.586501  \n     Mayo     -0.098488    0.191702       -0.043494      0.208625  ",
      "text/html": "<div>\n<style scoped>\n    .dataframe tbody tr th:only-of-type {\n        vertical-align: middle;\n    }\n\n    .dataframe tbody tr th {\n        vertical-align: top;\n    }\n\n    .dataframe thead th {\n        text-align: right;\n    }\n</style>\n<table border=\"1\" class=\"dataframe\">\n  <thead>\n    <tr style=\"text-align: right;\">\n      <th></th>\n      <th></th>\n      <th>TOTAL</th>\n      <th>Alimentos</th>\n      <th>Vivienda</th>\n      <th>Vestuario</th>\n      <th>Salud</th>\n      <th>Educación</th>\n      <th>Diversión</th>\n      <th>Transporte</th>\n      <th>Comunicaciones</th>\n      <th>Otros Gastos</th>\n    </tr>\n  </thead>\n  <tbody>\n    <tr>\n      <th rowspan=\"5\" valign=\"top\">2017</th>\n      <th>Enero</th>\n      <td>1.024114</td>\n      <td>1.622083</td>\n      <td>0.709280</td>\n      <td>0.165646</td>\n      <td>1.295235</td>\n      <td>0.033001</td>\n      <td>1.080814</td>\n      <td>0.940034</td>\n      <td>1.579505</td>\n      <td>1.057048</td>\n    </tr>\n    <tr>\n      <th>Febrero</th>\n      <td>1.005739</td>\n      <td>0.709075</td>\n      <td>0.427276</td>\n      <td>0.518690</td>\n      <td>1.094947</td>\n      <td>6.777650</td>\n      <td>-0.974921</td>\n      <td>0.405674</td>\n      <td>1.648996</td>\n      <td>1.620817</td>\n    </tr>\n    <tr>\n      <th>Marzo</th>\n      <td>0.465830</td>\n      <td>0.113657</td>\n      <td>0.529962</td>\n      <td>0.385676</td>\n      <td>1.282370</td>\n      <td>0.040779</td>\n      <td>0.518713</td>\n      <td>0.575621</td>\n      <td>1.534859</td>\n      <td>1.129390</td>\n    </tr>\n    <tr>\n      <th>Abril</th>\n      <td>0.473723</td>\n      <td>0.130721</td>\n      <td>0.673076</td>\n      <td>0.381234</td>\n      <td>0.722388</td>\n      <td>0.012780</td>\n      <td>0.267737</td>\n      <td>1.001560</td>\n      <td>0.274245</td>\n      <td>0.586501</td>\n    </tr>\n    <tr>\n      <th>Mayo</th>\n      <td>0.225318</td>\n      <td>0.072901</td>\n      <td>0.489332</td>\n      <td>0.156571</td>\n      <td>0.425030</td>\n      <td>0.006687</td>\n      <td>-0.098488</td>\n      <td>0.191702</td>\n      <td>-0.043494</td>\n      <td>0.208625</td>\n    </tr>\n  </tbody>\n</table>\n</div>"
     },
     "execution_count": 14,
     "metadata": {},
     "output_type": "execute_result"
    }
   ],
   "source": [
    "inflacion_col_men18.set_index(index, inplace=True)\n",
    "inflacion_col_men18.drop([\"Año\", \"Mes\"], axis=1, inplace=True)\n",
    "inflacion_col_men18.head()"
   ],
   "metadata": {
    "collapsed": false,
    "pycharm": {
     "name": "#%%\n"
    }
   }
  },
  {
   "cell_type": "code",
   "execution_count": 18,
   "outputs": [],
   "source": [
    "inflacion_col_anual18 = pd.read_excel(\"1.2.3.IPC_Por grupo de gasto.xlsx\", sheet_name=\"Inflacion anual por sector 18\")"
   ],
   "metadata": {
    "collapsed": false,
    "pycharm": {
     "name": "#%%\n"
    }
   }
  },
  {
   "cell_type": "code",
   "execution_count": 19,
   "outputs": [
    {
     "data": {
      "text/plain": "    Año      Mes     TOTAL  Alimentos  Vivienda  Vestuario     Salud  \\\n0  2017    Enero  5.469189   5.971688  4.914201   3.612137  7.930456   \n1  2017  Febrero  5.183980   5.212075  4.548169   3.658164  7.830089   \n2  2017    Marzo  4.686057   3.652154  4.228242   3.577970  7.926260   \n3  2017    Abril  4.662749   2.494288  5.075406   3.523811  7.807408   \n4  2017     Mayo  4.366522   2.094730  4.793283   3.301877  7.710451   \n\n   Educación  Diversión  Transporte  Comunicaciones  Otros Gastos  \n0   6.298360   4.014732    4.701341        6.048445      7.321255  \n1   7.517386   1.981870    4.263111        7.795059      7.800699  \n2   7.533894   3.507506    4.586876        7.013633      7.881870  \n3   7.515984   3.625891    5.152911        7.289567      7.650483  \n4   7.505768   3.319984    4.837901        7.269236      7.265942  ",
      "text/html": "<div>\n<style scoped>\n    .dataframe tbody tr th:only-of-type {\n        vertical-align: middle;\n    }\n\n    .dataframe tbody tr th {\n        vertical-align: top;\n    }\n\n    .dataframe thead th {\n        text-align: right;\n    }\n</style>\n<table border=\"1\" class=\"dataframe\">\n  <thead>\n    <tr style=\"text-align: right;\">\n      <th></th>\n      <th>Año</th>\n      <th>Mes</th>\n      <th>TOTAL</th>\n      <th>Alimentos</th>\n      <th>Vivienda</th>\n      <th>Vestuario</th>\n      <th>Salud</th>\n      <th>Educación</th>\n      <th>Diversión</th>\n      <th>Transporte</th>\n      <th>Comunicaciones</th>\n      <th>Otros Gastos</th>\n    </tr>\n  </thead>\n  <tbody>\n    <tr>\n      <th>0</th>\n      <td>2017</td>\n      <td>Enero</td>\n      <td>5.469189</td>\n      <td>5.971688</td>\n      <td>4.914201</td>\n      <td>3.612137</td>\n      <td>7.930456</td>\n      <td>6.298360</td>\n      <td>4.014732</td>\n      <td>4.701341</td>\n      <td>6.048445</td>\n      <td>7.321255</td>\n    </tr>\n    <tr>\n      <th>1</th>\n      <td>2017</td>\n      <td>Febrero</td>\n      <td>5.183980</td>\n      <td>5.212075</td>\n      <td>4.548169</td>\n      <td>3.658164</td>\n      <td>7.830089</td>\n      <td>7.517386</td>\n      <td>1.981870</td>\n      <td>4.263111</td>\n      <td>7.795059</td>\n      <td>7.800699</td>\n    </tr>\n    <tr>\n      <th>2</th>\n      <td>2017</td>\n      <td>Marzo</td>\n      <td>4.686057</td>\n      <td>3.652154</td>\n      <td>4.228242</td>\n      <td>3.577970</td>\n      <td>7.926260</td>\n      <td>7.533894</td>\n      <td>3.507506</td>\n      <td>4.586876</td>\n      <td>7.013633</td>\n      <td>7.881870</td>\n    </tr>\n    <tr>\n      <th>3</th>\n      <td>2017</td>\n      <td>Abril</td>\n      <td>4.662749</td>\n      <td>2.494288</td>\n      <td>5.075406</td>\n      <td>3.523811</td>\n      <td>7.807408</td>\n      <td>7.515984</td>\n      <td>3.625891</td>\n      <td>5.152911</td>\n      <td>7.289567</td>\n      <td>7.650483</td>\n    </tr>\n    <tr>\n      <th>4</th>\n      <td>2017</td>\n      <td>Mayo</td>\n      <td>4.366522</td>\n      <td>2.094730</td>\n      <td>4.793283</td>\n      <td>3.301877</td>\n      <td>7.710451</td>\n      <td>7.505768</td>\n      <td>3.319984</td>\n      <td>4.837901</td>\n      <td>7.269236</td>\n      <td>7.265942</td>\n    </tr>\n  </tbody>\n</table>\n</div>"
     },
     "execution_count": 19,
     "metadata": {},
     "output_type": "execute_result"
    }
   ],
   "source": [
    "inflacion_col_anual18.head()"
   ],
   "metadata": {
    "collapsed": false,
    "pycharm": {
     "name": "#%%\n"
    }
   }
  },
  {
   "cell_type": "code",
   "execution_count": 21,
   "outputs": [],
   "source": [
    "index = list(zip(inflacion_col_anual18[\"Año\"],inflacion_col_anual18[\"Mes\"]))\n",
    "index = pd.MultiIndex.from_tuples(index)"
   ],
   "metadata": {
    "collapsed": false,
    "pycharm": {
     "name": "#%%\n"
    }
   }
  },
  {
   "cell_type": "code",
   "execution_count": 22,
   "outputs": [
    {
     "data": {
      "text/plain": "                 TOTAL  Alimentos  Vivienda  Vestuario     Salud  Educación  \\\n2017 Enero    5.469189   5.971688  4.914201   3.612137  7.930456   6.298360   \n     Febrero  5.183980   5.212075  4.548169   3.658164  7.830089   7.517386   \n     Marzo    4.686057   3.652154  4.228242   3.577970  7.926260   7.533894   \n     Abril    4.662749   2.494288  5.075406   3.523811  7.807408   7.515984   \n     Mayo     4.366522   2.094730  4.793283   3.301877  7.710451   7.505768   \n\n              Diversión  Transporte  Comunicaciones  Otros Gastos  \n2017 Enero     4.014732    4.701341        6.048445      7.321255  \n     Febrero   1.981870    4.263111        7.795059      7.800699  \n     Marzo     3.507506    4.586876        7.013633      7.881870  \n     Abril     3.625891    5.152911        7.289567      7.650483  \n     Mayo      3.319984    4.837901        7.269236      7.265942  ",
      "text/html": "<div>\n<style scoped>\n    .dataframe tbody tr th:only-of-type {\n        vertical-align: middle;\n    }\n\n    .dataframe tbody tr th {\n        vertical-align: top;\n    }\n\n    .dataframe thead th {\n        text-align: right;\n    }\n</style>\n<table border=\"1\" class=\"dataframe\">\n  <thead>\n    <tr style=\"text-align: right;\">\n      <th></th>\n      <th></th>\n      <th>TOTAL</th>\n      <th>Alimentos</th>\n      <th>Vivienda</th>\n      <th>Vestuario</th>\n      <th>Salud</th>\n      <th>Educación</th>\n      <th>Diversión</th>\n      <th>Transporte</th>\n      <th>Comunicaciones</th>\n      <th>Otros Gastos</th>\n    </tr>\n  </thead>\n  <tbody>\n    <tr>\n      <th rowspan=\"5\" valign=\"top\">2017</th>\n      <th>Enero</th>\n      <td>5.469189</td>\n      <td>5.971688</td>\n      <td>4.914201</td>\n      <td>3.612137</td>\n      <td>7.930456</td>\n      <td>6.298360</td>\n      <td>4.014732</td>\n      <td>4.701341</td>\n      <td>6.048445</td>\n      <td>7.321255</td>\n    </tr>\n    <tr>\n      <th>Febrero</th>\n      <td>5.183980</td>\n      <td>5.212075</td>\n      <td>4.548169</td>\n      <td>3.658164</td>\n      <td>7.830089</td>\n      <td>7.517386</td>\n      <td>1.981870</td>\n      <td>4.263111</td>\n      <td>7.795059</td>\n      <td>7.800699</td>\n    </tr>\n    <tr>\n      <th>Marzo</th>\n      <td>4.686057</td>\n      <td>3.652154</td>\n      <td>4.228242</td>\n      <td>3.577970</td>\n      <td>7.926260</td>\n      <td>7.533894</td>\n      <td>3.507506</td>\n      <td>4.586876</td>\n      <td>7.013633</td>\n      <td>7.881870</td>\n    </tr>\n    <tr>\n      <th>Abril</th>\n      <td>4.662749</td>\n      <td>2.494288</td>\n      <td>5.075406</td>\n      <td>3.523811</td>\n      <td>7.807408</td>\n      <td>7.515984</td>\n      <td>3.625891</td>\n      <td>5.152911</td>\n      <td>7.289567</td>\n      <td>7.650483</td>\n    </tr>\n    <tr>\n      <th>Mayo</th>\n      <td>4.366522</td>\n      <td>2.094730</td>\n      <td>4.793283</td>\n      <td>3.301877</td>\n      <td>7.710451</td>\n      <td>7.505768</td>\n      <td>3.319984</td>\n      <td>4.837901</td>\n      <td>7.269236</td>\n      <td>7.265942</td>\n    </tr>\n  </tbody>\n</table>\n</div>"
     },
     "execution_count": 22,
     "metadata": {},
     "output_type": "execute_result"
    }
   ],
   "source": [
    "inflacion_col_anual18.set_index(index, inplace=True)\n",
    "inflacion_col_anual18.drop([\"Año\", \"Mes\"], axis=1, inplace=True)\n",
    "inflacion_col_anual18.head()"
   ],
   "metadata": {
    "collapsed": false,
    "pycharm": {
     "name": "#%%\n"
    }
   }
  },
  {
   "cell_type": "code",
   "execution_count": 23,
   "outputs": [
    {
     "data": {
      "text/plain": "    Año      Mes  Alimentos y bebidas no alcohólicas  \\\n0  2019    Enero                                 NaN   \n1  2019  Febrero                                 NaN   \n2  2019    Marzo                                 NaN   \n3  2019    Abril                                 NaN   \n4  2019     Mayo                                 NaN   \n\n   Bebidas alcohólicas y tabaco  Prendas de vestir y calzado  \\\n0                          4.03                          NaN   \n1                          3.91                          NaN   \n2                          4.37                          NaN   \n3                          4.82                          NaN   \n4                          5.12                          NaN   \n\n   Alojamiento, agua, electricidad, gas y otros combustibles  \\\n0                                                NaN           \n1                                                NaN           \n2                                                NaN           \n3                                                NaN           \n4                                                NaN           \n\n   Muebles, artículos para el hogar y para la conservación ordinaria del hogar  \\\n0                                                NaN                             \n1                                                NaN                             \n2                                                NaN                             \n3                                                NaN                             \n4                                                NaN                             \n\n   Salud  Transporte  Información y comunicación  Recreación y cultura  \\\n0    NaN         NaN                        1.69                   NaN   \n1    NaN         NaN                        1.33                   NaN   \n2    NaN         NaN                        1.20                   NaN   \n3    NaN         NaN                        1.93                   NaN   \n4    NaN         NaN                        1.88                   NaN   \n\n   Educación  Restaurantes y hoteles  Bienes y servicios diversos  \n0        NaN                     NaN                          NaN  \n1        NaN                     NaN                          NaN  \n2        NaN                     NaN                          NaN  \n3        NaN                     NaN                          NaN  \n4        NaN                     NaN                          NaN  ",
      "text/html": "<div>\n<style scoped>\n    .dataframe tbody tr th:only-of-type {\n        vertical-align: middle;\n    }\n\n    .dataframe tbody tr th {\n        vertical-align: top;\n    }\n\n    .dataframe thead th {\n        text-align: right;\n    }\n</style>\n<table border=\"1\" class=\"dataframe\">\n  <thead>\n    <tr style=\"text-align: right;\">\n      <th></th>\n      <th>Año</th>\n      <th>Mes</th>\n      <th>Alimentos y bebidas no alcohólicas</th>\n      <th>Bebidas alcohólicas y tabaco</th>\n      <th>Prendas de vestir y calzado</th>\n      <th>Alojamiento, agua, electricidad, gas y otros combustibles</th>\n      <th>Muebles, artículos para el hogar y para la conservación ordinaria del hogar</th>\n      <th>Salud</th>\n      <th>Transporte</th>\n      <th>Información y comunicación</th>\n      <th>Recreación y cultura</th>\n      <th>Educación</th>\n      <th>Restaurantes y hoteles</th>\n      <th>Bienes y servicios diversos</th>\n    </tr>\n  </thead>\n  <tbody>\n    <tr>\n      <th>0</th>\n      <td>2019</td>\n      <td>Enero</td>\n      <td>NaN</td>\n      <td>4.03</td>\n      <td>NaN</td>\n      <td>NaN</td>\n      <td>NaN</td>\n      <td>NaN</td>\n      <td>NaN</td>\n      <td>1.69</td>\n      <td>NaN</td>\n      <td>NaN</td>\n      <td>NaN</td>\n      <td>NaN</td>\n    </tr>\n    <tr>\n      <th>1</th>\n      <td>2019</td>\n      <td>Febrero</td>\n      <td>NaN</td>\n      <td>3.91</td>\n      <td>NaN</td>\n      <td>NaN</td>\n      <td>NaN</td>\n      <td>NaN</td>\n      <td>NaN</td>\n      <td>1.33</td>\n      <td>NaN</td>\n      <td>NaN</td>\n      <td>NaN</td>\n      <td>NaN</td>\n    </tr>\n    <tr>\n      <th>2</th>\n      <td>2019</td>\n      <td>Marzo</td>\n      <td>NaN</td>\n      <td>4.37</td>\n      <td>NaN</td>\n      <td>NaN</td>\n      <td>NaN</td>\n      <td>NaN</td>\n      <td>NaN</td>\n      <td>1.20</td>\n      <td>NaN</td>\n      <td>NaN</td>\n      <td>NaN</td>\n      <td>NaN</td>\n    </tr>\n    <tr>\n      <th>3</th>\n      <td>2019</td>\n      <td>Abril</td>\n      <td>NaN</td>\n      <td>4.82</td>\n      <td>NaN</td>\n      <td>NaN</td>\n      <td>NaN</td>\n      <td>NaN</td>\n      <td>NaN</td>\n      <td>1.93</td>\n      <td>NaN</td>\n      <td>NaN</td>\n      <td>NaN</td>\n      <td>NaN</td>\n    </tr>\n    <tr>\n      <th>4</th>\n      <td>2019</td>\n      <td>Mayo</td>\n      <td>NaN</td>\n      <td>5.12</td>\n      <td>NaN</td>\n      <td>NaN</td>\n      <td>NaN</td>\n      <td>NaN</td>\n      <td>NaN</td>\n      <td>1.88</td>\n      <td>NaN</td>\n      <td>NaN</td>\n      <td>NaN</td>\n      <td>NaN</td>\n    </tr>\n  </tbody>\n</table>\n</div>"
     },
     "execution_count": 23,
     "metadata": {},
     "output_type": "execute_result"
    }
   ],
   "source": [
    "inflacion_col_anual21 = pd.read_excel(\"1.2.3.IPC_Por grupo de gasto.xlsx\", sheet_name=\"Inflacion anual por sector 21\")\n",
    "inflacion_col_anual21.head()"
   ],
   "metadata": {
    "collapsed": false,
    "pycharm": {
     "name": "#%%\n"
    }
   }
  },
  {
   "cell_type": "code",
   "execution_count": 24,
   "outputs": [
    {
     "data": {
      "text/plain": "              Alimentos y bebidas no alcohólicas  \\\n2019 Enero                                   NaN   \n     Febrero                                 NaN   \n     Marzo                                   NaN   \n     Abril                                   NaN   \n     Mayo                                    NaN   \n\n              Bebidas alcohólicas y tabaco  Prendas de vestir y calzado  \\\n2019 Enero                            4.03                          NaN   \n     Febrero                          3.91                          NaN   \n     Marzo                            4.37                          NaN   \n     Abril                            4.82                          NaN   \n     Mayo                             5.12                          NaN   \n\n              Alojamiento, agua, electricidad, gas y otros combustibles  \\\n2019 Enero                                                  NaN           \n     Febrero                                                NaN           \n     Marzo                                                  NaN           \n     Abril                                                  NaN           \n     Mayo                                                   NaN           \n\n              Muebles, artículos para el hogar y para la conservación ordinaria del hogar  \\\n2019 Enero                                                  NaN                             \n     Febrero                                                NaN                             \n     Marzo                                                  NaN                             \n     Abril                                                  NaN                             \n     Mayo                                                   NaN                             \n\n              Salud  Transporte  Información y comunicación  \\\n2019 Enero      NaN         NaN                        1.69   \n     Febrero    NaN         NaN                        1.33   \n     Marzo      NaN         NaN                        1.20   \n     Abril      NaN         NaN                        1.93   \n     Mayo       NaN         NaN                        1.88   \n\n              Recreación y cultura  Educación  Restaurantes y hoteles  \\\n2019 Enero                     NaN        NaN                     NaN   \n     Febrero                   NaN        NaN                     NaN   \n     Marzo                     NaN        NaN                     NaN   \n     Abril                     NaN        NaN                     NaN   \n     Mayo                      NaN        NaN                     NaN   \n\n              Bienes y servicios diversos  \n2019 Enero                            NaN  \n     Febrero                          NaN  \n     Marzo                            NaN  \n     Abril                            NaN  \n     Mayo                             NaN  ",
      "text/html": "<div>\n<style scoped>\n    .dataframe tbody tr th:only-of-type {\n        vertical-align: middle;\n    }\n\n    .dataframe tbody tr th {\n        vertical-align: top;\n    }\n\n    .dataframe thead th {\n        text-align: right;\n    }\n</style>\n<table border=\"1\" class=\"dataframe\">\n  <thead>\n    <tr style=\"text-align: right;\">\n      <th></th>\n      <th></th>\n      <th>Alimentos y bebidas no alcohólicas</th>\n      <th>Bebidas alcohólicas y tabaco</th>\n      <th>Prendas de vestir y calzado</th>\n      <th>Alojamiento, agua, electricidad, gas y otros combustibles</th>\n      <th>Muebles, artículos para el hogar y para la conservación ordinaria del hogar</th>\n      <th>Salud</th>\n      <th>Transporte</th>\n      <th>Información y comunicación</th>\n      <th>Recreación y cultura</th>\n      <th>Educación</th>\n      <th>Restaurantes y hoteles</th>\n      <th>Bienes y servicios diversos</th>\n    </tr>\n  </thead>\n  <tbody>\n    <tr>\n      <th rowspan=\"5\" valign=\"top\">2019</th>\n      <th>Enero</th>\n      <td>NaN</td>\n      <td>4.03</td>\n      <td>NaN</td>\n      <td>NaN</td>\n      <td>NaN</td>\n      <td>NaN</td>\n      <td>NaN</td>\n      <td>1.69</td>\n      <td>NaN</td>\n      <td>NaN</td>\n      <td>NaN</td>\n      <td>NaN</td>\n    </tr>\n    <tr>\n      <th>Febrero</th>\n      <td>NaN</td>\n      <td>3.91</td>\n      <td>NaN</td>\n      <td>NaN</td>\n      <td>NaN</td>\n      <td>NaN</td>\n      <td>NaN</td>\n      <td>1.33</td>\n      <td>NaN</td>\n      <td>NaN</td>\n      <td>NaN</td>\n      <td>NaN</td>\n    </tr>\n    <tr>\n      <th>Marzo</th>\n      <td>NaN</td>\n      <td>4.37</td>\n      <td>NaN</td>\n      <td>NaN</td>\n      <td>NaN</td>\n      <td>NaN</td>\n      <td>NaN</td>\n      <td>1.20</td>\n      <td>NaN</td>\n      <td>NaN</td>\n      <td>NaN</td>\n      <td>NaN</td>\n    </tr>\n    <tr>\n      <th>Abril</th>\n      <td>NaN</td>\n      <td>4.82</td>\n      <td>NaN</td>\n      <td>NaN</td>\n      <td>NaN</td>\n      <td>NaN</td>\n      <td>NaN</td>\n      <td>1.93</td>\n      <td>NaN</td>\n      <td>NaN</td>\n      <td>NaN</td>\n      <td>NaN</td>\n    </tr>\n    <tr>\n      <th>Mayo</th>\n      <td>NaN</td>\n      <td>5.12</td>\n      <td>NaN</td>\n      <td>NaN</td>\n      <td>NaN</td>\n      <td>NaN</td>\n      <td>NaN</td>\n      <td>1.88</td>\n      <td>NaN</td>\n      <td>NaN</td>\n      <td>NaN</td>\n      <td>NaN</td>\n    </tr>\n  </tbody>\n</table>\n</div>"
     },
     "execution_count": 24,
     "metadata": {},
     "output_type": "execute_result"
    }
   ],
   "source": [
    "index = list(zip(inflacion_col_anual21[\"Año\"], inflacion_col_anual21[\"Mes\"]))\n",
    "index = pd.MultiIndex.from_tuples(index)\n",
    "\n",
    "\n",
    "inflacion_col_anual21.set_index(index, inplace=True)\n",
    "inflacion_col_anual21.drop([\"Año\", \"Mes\"], axis=1, inplace=True)\n",
    "inflacion_col_anual21.head()"
   ],
   "metadata": {
    "collapsed": false,
    "pycharm": {
     "name": "#%%\n"
    }
   }
  },
  {
   "cell_type": "markdown",
   "source": [
    "## Uniendo los datos"
   ],
   "metadata": {
    "collapsed": false,
    "pycharm": {
     "name": "#%% md\n"
    }
   }
  }
 ],
 "metadata": {
  "kernelspec": {
   "display_name": "Python 3",
   "language": "python",
   "name": "python3"
  },
  "language_info": {
   "codemirror_mode": {
    "name": "ipython",
    "version": 2
   },
   "file_extension": ".py",
   "mimetype": "text/x-python",
   "name": "python",
   "nbconvert_exporter": "python",
   "pygments_lexer": "ipython2",
   "version": "2.7.6"
  }
 },
 "nbformat": 4,
 "nbformat_minor": 0
}